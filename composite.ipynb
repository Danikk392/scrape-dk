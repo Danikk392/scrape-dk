{
 "cells": [
  {
   "cell_type": "code",
   "execution_count": 12,
   "metadata": {},
   "outputs": [
    {
     "name": "stdout",
     "output_type": "stream",
     "text": [
      "Requirement already satisfied: selenium in /opt/anaconda3/lib/python3.12/site-packages (4.29.0)\n",
      "Requirement already satisfied: webdriver-manager in /opt/anaconda3/lib/python3.12/site-packages (4.0.2)\n",
      "Requirement already satisfied: fake_useragent in /opt/anaconda3/lib/python3.12/site-packages (2.0.3)\n",
      "Requirement already satisfied: urllib3<3,>=1.26 in /opt/anaconda3/lib/python3.12/site-packages (from urllib3[socks]<3,>=1.26->selenium) (2.2.2)\n",
      "Requirement already satisfied: trio~=0.17 in /opt/anaconda3/lib/python3.12/site-packages (from selenium) (0.29.0)\n",
      "Requirement already satisfied: trio-websocket~=0.9 in /opt/anaconda3/lib/python3.12/site-packages (from selenium) (0.12.2)\n",
      "Requirement already satisfied: certifi>=2021.10.8 in /opt/anaconda3/lib/python3.12/site-packages (from selenium) (2024.6.2)\n",
      "Requirement already satisfied: typing_extensions~=4.9 in /opt/anaconda3/lib/python3.12/site-packages (from selenium) (4.11.0)\n",
      "Requirement already satisfied: websocket-client~=1.8 in /opt/anaconda3/lib/python3.12/site-packages (from selenium) (1.8.0)\n",
      "Requirement already satisfied: requests in /opt/anaconda3/lib/python3.12/site-packages (from webdriver-manager) (2.32.2)\n",
      "Requirement already satisfied: python-dotenv in /opt/anaconda3/lib/python3.12/site-packages (from webdriver-manager) (0.21.0)\n",
      "Requirement already satisfied: packaging in /opt/anaconda3/lib/python3.12/site-packages (from webdriver-manager) (23.2)\n",
      "Requirement already satisfied: attrs>=23.2.0 in /opt/anaconda3/lib/python3.12/site-packages (from trio~=0.17->selenium) (25.1.0)\n",
      "Requirement already satisfied: sortedcontainers in /opt/anaconda3/lib/python3.12/site-packages (from trio~=0.17->selenium) (2.4.0)\n",
      "Requirement already satisfied: idna in /opt/anaconda3/lib/python3.12/site-packages (from trio~=0.17->selenium) (3.7)\n",
      "Requirement already satisfied: outcome in /opt/anaconda3/lib/python3.12/site-packages (from trio~=0.17->selenium) (1.3.0.post0)\n",
      "Requirement already satisfied: sniffio>=1.3.0 in /opt/anaconda3/lib/python3.12/site-packages (from trio~=0.17->selenium) (1.3.0)\n",
      "Requirement already satisfied: wsproto>=0.14 in /opt/anaconda3/lib/python3.12/site-packages (from trio-websocket~=0.9->selenium) (1.2.0)\n",
      "Requirement already satisfied: pysocks!=1.5.7,<2.0,>=1.5.6 in /opt/anaconda3/lib/python3.12/site-packages (from urllib3[socks]<3,>=1.26->selenium) (1.7.1)\n",
      "Requirement already satisfied: charset-normalizer<4,>=2 in /opt/anaconda3/lib/python3.12/site-packages (from requests->webdriver-manager) (2.0.4)\n",
      "Requirement already satisfied: h11<1,>=0.9.0 in /opt/anaconda3/lib/python3.12/site-packages (from wsproto>=0.14->trio-websocket~=0.9->selenium) (0.14.0)\n",
      "Note: you may need to restart the kernel to use updated packages.\n"
     ]
    }
   ],
   "source": [
    "pip install selenium webdriver-manager fake_useragent "
   ]
  },
  {
   "cell_type": "code",
   "execution_count": 13,
   "metadata": {},
   "outputs": [],
   "source": [
    "import requests\n",
    "import pandas as pd\n",
    "from bs4 import BeautifulSoup\n",
    "from selenium import webdriver\n",
    "from selenium.webdriver.chrome.service import Service\n",
    "from selenium.webdriver.chrome.options import Options\n",
    "from selenium.webdriver.common.by import By\n",
    "from selenium.webdriver.common.keys import Keys\n",
    "import time\n",
    "from webdriver_manager.chrome import ChromeDriverManager"
   ]
  },
  {
   "cell_type": "code",
   "execution_count": 14,
   "metadata": {},
   "outputs": [
    {
     "data": {
      "text/plain": [
       "'https://www.yelp.com/biz/mix-kitchen-and-bar-ithaca-11'"
      ]
     },
     "execution_count": 14,
     "metadata": {},
     "output_type": "execute_result"
    }
   ],
   "source": [
    "from urllib.parse import urlparse, urljoin\n",
    "yelp_url = \"https://www.yelp.com/biz/mix-kitchen-and-bar-ithaca-11?osq=Reservations\"\n",
    "def extract_business_slug(yelp_url):\n",
    "    \"\"\"Extracts the business slug from a Yelp URL\"\"\"\n",
    "    parsed_url = urlparse(yelp_url)\n",
    "    path_parts = parsed_url.path.split(\"/\")\n",
    "    \n",
    "    if len(path_parts) > 2 and path_parts[1] == \"biz\":\n",
    "        business_slug = path_parts[2]  \n",
    "        clean_url = urljoin(\"https://www.yelp.com\", f\"/biz/{business_slug}\")  \n",
    "    return clean_url\n",
    "\n",
    "clean_yelp_url = extract_business_slug(yelp_url)\n",
    "clean_yelp_url"
   ]
  },
  {
   "cell_type": "code",
   "execution_count": 15,
   "metadata": {},
   "outputs": [],
   "source": [
    "from fake_useragent import UserAgent\n",
    "\n",
    "ua = UserAgent()\n",
    "headers = {\"User-Agent\": ua.random}\n",
    "page = requests.get(clean_yelp_url, headers=headers)"
   ]
  },
  {
   "cell_type": "code",
   "execution_count": 16,
   "metadata": {},
   "outputs": [],
   "source": [
    "soup = BeautifulSoup(page.text, 'html.parser')"
   ]
  },
  {
   "cell_type": "code",
   "execution_count": 17,
   "metadata": {},
   "outputs": [],
   "source": [
    "from selenium.common.exceptions import StaleElementReferenceException, NoSuchElementException\n",
    "from selenium.webdriver.common.by import By\n",
    "from selenium.webdriver.support.ui import WebDriverWait\n",
    "from selenium.webdriver.support import expected_conditions as EC\n",
    "headers = {\"User-Agent\": ua.random}\n",
    "def click_next_page(driver):\n",
    "    \"\"\"Clicks the 'Next' button to load the next page of reviews, if available.\"\"\"\n",
    "    try:\n",
    "        time.sleep(2)  # <--- Short delay to allow page update\n",
    "\n",
    "        next_button = driver.find_element(By.XPATH, \"//a[contains(@class, 'next-link')]\")\n",
    "\n",
    "        if next_button:\n",
    "            driver.execute_script(\"arguments[0].scrollIntoView();\", next_button)  # Scroll to button\n",
    "            time.sleep(2)\n",
    "            driver.execute_script(\"arguments[0].click();\", next_button)  \n",
    "            print(\"Clicked 'Next' button, loading next page...\")\n",
    "            time.sleep(4)  \n",
    "            return True  \n",
    "\n",
    "    except (StaleElementReferenceException, NoSuchElementException):\n",
    "        print(\"No more pages or 'Next' button not found.\")\n",
    "        return False  \n",
    "\n",
    "    return False"
   ]
  },
  {
   "cell_type": "code",
   "execution_count": 18,
   "metadata": {},
   "outputs": [
    {
     "name": "stdout",
     "output_type": "stream",
     "text": [
      "Found 0 dates.\n",
      "No dates found on this page.\n",
      "[]\n"
     ]
    }
   ],
   "source": [
    "def get_driver():\n",
    "    \"\"\"This function is used to set up a Selenium WebDriver with headless Chrome \n",
    "    in order to go through the data within Yelp.\"\"\"\n",
    "    options = Options()\n",
    "    options.add_argument(\"--headless\")  \n",
    "    options.add_argument(\"--disable-gpu\")\n",
    "    options.add_argument(\"--no-sandbox\")       \n",
    "    options.add_argument(\"--window-size=1920,1080\")\n",
    "    time.sleep(5)\n",
    "    driver = webdriver.Chrome(service=Service(ChromeDriverManager().install()), options=options)\n",
    "    return driver\n",
    "\n",
    "def yelp_dates(clean_yelp_url):\n",
    "    \"This function extracts the time at which each yelp rating was posted\"\n",
    "    driver = get_driver()\n",
    "    driver.get(clean_yelp_url)\n",
    "    time.sleep(5) # <-- allows time for javascript to load\n",
    "    ask_community_reviews = driver.find_elements(By.XPATH, \"//section[@aria-label='Ask the Community']//ul[contains(@class, 'list__09f24__ynIEd')]/li\")\n",
    "    length = len(ask_community_reviews)\n",
    "    all_page_dates = []\n",
    "    page = 1\n",
    "    while True:\n",
    "        time.sleep(3)\n",
    "        review_sections = driver.find_elements(By.XPATH, \"//ul[contains(@class, 'list__09f24__ynIEd')]//li\") # <--- tells the webscraper to start scraping at the start constumer reviews section\n",
    "        print(f\"Found {len(review_sections)} dates.\")  # Debugging\n",
    "        if not review_sections:\n",
    "            print(\"No dates found on this page.\")\n",
    "            break \n",
    "        \n",
    "        dates = []\n",
    "        for d in review_sections:\n",
    "            try:\n",
    "                date_element = d.find_element(By.XPATH, \".//span[contains(@class, 'y-css-1d8mpv1')][not(contains(text(), 'Photos'))]\")\n",
    "                date = date_element.text.strip()  \n",
    "                if date:\n",
    "                    dates.append(date)\n",
    "                else:\n",
    "                    continue\n",
    "            except Exception as e:\n",
    "                print(f\"Error extracting rating: {e}\") \n",
    "        all_page_dates.append(dates)\n",
    "        print(f\"Stored {len(dates)} from Page {page} into all_page_dates\")\n",
    "        if page > 2:\n",
    "            print(f\"Reached page limit {page}\")\n",
    "            break\n",
    "        if not click_next_page(driver):\n",
    "            print(\"No more pages to scrape reviews from\")\n",
    "            break\n",
    "        page += 1\n",
    "    driver.quit()\n",
    "    return all_page_dates\n",
    "    \n",
    "all_dates = yelp_dates(clean_yelp_url)\n",
    "print(all_dates)"
   ]
  },
  {
   "cell_type": "code",
   "execution_count": 19,
   "metadata": {},
   "outputs": [
    {
     "name": "stdout",
     "output_type": "stream",
     "text": [
      "Found 0 reviews.\n",
      "No reviews found on this page.\n",
      "[]\n"
     ]
    }
   ],
   "source": [
    "def yelp_ratings(clean_yelp_url):\n",
    "    \"This function extracts each yelp rating using Selenium\"\n",
    "    driver = get_driver()\n",
    "    driver.get(clean_yelp_url)\n",
    "    time.sleep(5) # <-- allows time for javascript to load\n",
    "    all_page_ratings = []\n",
    "    page = 1\n",
    "    while True:\n",
    "        time.sleep(2)\n",
    "        review_sections = driver.find_elements(By.XPATH, \"//ul[contains(@class, 'list__09f24__ynIEd')]//li\") # <--- tells the webscraper to start scraping at the start constumer reviews section\n",
    "        print(f\"Found {len(review_sections)} reviews.\")  # Debugging\n",
    "        if not review_sections:\n",
    "            print(\"No reviews found on this page.\")\n",
    "            break \n",
    "        \n",
    "        ratings = []\n",
    "        for review in review_sections:\n",
    "            try:\n",
    "                rating_element = review.find_elements(By.XPATH, \".//div[contains(@class, 'y-css-dnttlc')]\")  \n",
    "                if rating_element:\n",
    "                    rating = rating_element[0].get_attribute(\"aria-label\") \n",
    "                    ratings.append(rating)\n",
    "                else:\n",
    "                    continue\n",
    "            except Exception as e:\n",
    "                print(f\"Error extracting rating: {e}\") \n",
    "        time.sleep(2)\n",
    "        all_page_ratings.append(ratings)\n",
    "        print(f\"Stored {len(ratings)} from Page {page} into all_page_ratings\")\n",
    "        if page > 2:\n",
    "            print(f\"Reached page limit {page}\")\n",
    "            break\n",
    "        if not click_next_page(driver):\n",
    "            print(\"No more pages to scrape reviews from\")\n",
    "            break\n",
    "        page += 1\n",
    "    driver.quit()\n",
    "    return all_page_ratings\n",
    "\n",
    "all_reviews = yelp_ratings(clean_yelp_url)\n",
    "print(all_reviews)"
   ]
  },
  {
   "cell_type": "code",
   "execution_count": 20,
   "metadata": {},
   "outputs": [
    {
     "ename": "NameError",
     "evalue": "name 'TimeoutException' is not defined",
     "output_type": "error",
     "traceback": [
      "\u001b[0;31m---------------------------------------------------------------------------\u001b[0m",
      "\u001b[0;31mTimeoutException\u001b[0m                          Traceback (most recent call last)",
      "Cell \u001b[0;32mIn[20], line 17\u001b[0m, in \u001b[0;36mcommunity_section_len\u001b[0;34m(driver)\u001b[0m\n\u001b[1;32m     16\u001b[0m \u001b[38;5;28;01mtry\u001b[39;00m:\n\u001b[0;32m---> 17\u001b[0m     ask_community_section \u001b[38;5;241m=\u001b[39m WebDriverWait(driver, \u001b[38;5;241m10\u001b[39m)\u001b[38;5;241m.\u001b[39muntil(\n\u001b[1;32m     18\u001b[0m         EC\u001b[38;5;241m.\u001b[39mpresence_of_element_located((By\u001b[38;5;241m.\u001b[39mXPATH, \u001b[38;5;124m\"\u001b[39m\u001b[38;5;124m//section[contains(@aria-label, \u001b[39m\u001b[38;5;124m'\u001b[39m\u001b[38;5;124mAsk the Community\u001b[39m\u001b[38;5;124m'\u001b[39m\u001b[38;5;124m)]\u001b[39m\u001b[38;5;124m\"\u001b[39m))\n\u001b[1;32m     19\u001b[0m     )\n\u001b[1;32m     20\u001b[0m     community_section \u001b[38;5;241m=\u001b[39m []\n",
      "File \u001b[0;32m/opt/anaconda3/lib/python3.12/site-packages/selenium/webdriver/support/wait.py:146\u001b[0m, in \u001b[0;36mWebDriverWait.until\u001b[0;34m(self, method, message)\u001b[0m\n\u001b[1;32m    145\u001b[0m     time\u001b[38;5;241m.\u001b[39msleep(\u001b[38;5;28mself\u001b[39m\u001b[38;5;241m.\u001b[39m_poll)\n\u001b[0;32m--> 146\u001b[0m \u001b[38;5;28;01mraise\u001b[39;00m TimeoutException(message, screen, stacktrace)\n",
      "\u001b[0;31mTimeoutException\u001b[0m: Message: \nStacktrace:\n0   chromedriver                        0x0000000105818818 chromedriver + 6105112\n1   chromedriver                        0x000000010581041a chromedriver + 6071322\n2   chromedriver                        0x00000001052ab600 chromedriver + 415232\n3   chromedriver                        0x00000001052fd2c0 chromedriver + 750272\n4   chromedriver                        0x00000001052fd511 chromedriver + 750865\n5   chromedriver                        0x000000010534d9c4 chromedriver + 1079748\n6   chromedriver                        0x000000010532363d chromedriver + 906813\n7   chromedriver                        0x000000010534ac3d chromedriver + 1068093\n8   chromedriver                        0x00000001053233e3 chromedriver + 906211\n9   chromedriver                        0x00000001052ef29a chromedriver + 692890\n10  chromedriver                        0x00000001052f03f1 chromedriver + 697329\n11  chromedriver                        0x00000001057d7d10 chromedriver + 5840144\n12  chromedriver                        0x00000001057dbbe4 chromedriver + 5856228\n13  chromedriver                        0x00000001057b2946 chromedriver + 5687622\n14  chromedriver                        0x00000001057dc5db chromedriver + 5858779\n15  chromedriver                        0x00000001057a1034 chromedriver + 5615668\n16  chromedriver                        0x00000001057fe378 chromedriver + 5997432\n17  chromedriver                        0x00000001057fe53f chromedriver + 5997887\n18  chromedriver                        0x000000010580fff8 chromedriver + 6070264\n19  libsystem_pthread.dylib             0x00007ff8126554e1 _pthread_start + 125\n20  libsystem_pthread.dylib             0x00007ff812650f6b thread_start + 15\n",
      "\nDuring handling of the above exception, another exception occurred:\n",
      "\u001b[0;31mNameError\u001b[0m                                 Traceback (most recent call last)",
      "Cell \u001b[0;32mIn[20], line 37\u001b[0m\n\u001b[1;32m     34\u001b[0m         \u001b[38;5;28mprint\u001b[39m(\u001b[38;5;124m\"\u001b[39m\u001b[38;5;124mAsk the Community section not found.\u001b[39m\u001b[38;5;124m\"\u001b[39m)\n\u001b[1;32m     35\u001b[0m         \u001b[38;5;28;01mreturn\u001b[39;00m \u001b[38;5;241m0\u001b[39m\n\u001b[0;32m---> 37\u001b[0m community_section_len(driver)\n",
      "Cell \u001b[0;32mIn[20], line 33\u001b[0m, in \u001b[0;36mcommunity_section_len\u001b[0;34m(driver)\u001b[0m\n\u001b[1;32m     30\u001b[0m     length \u001b[38;5;241m=\u001b[39m \u001b[38;5;28mlen\u001b[39m(community_section)\n\u001b[1;32m     31\u001b[0m     \u001b[38;5;28;01mreturn\u001b[39;00m length\n\u001b[0;32m---> 33\u001b[0m \u001b[38;5;28;01mexcept\u001b[39;00m TimeoutException:\n\u001b[1;32m     34\u001b[0m     \u001b[38;5;28mprint\u001b[39m(\u001b[38;5;124m\"\u001b[39m\u001b[38;5;124mAsk the Community section not found.\u001b[39m\u001b[38;5;124m\"\u001b[39m)\n\u001b[1;32m     35\u001b[0m     \u001b[38;5;28;01mreturn\u001b[39;00m \u001b[38;5;241m0\u001b[39m\n",
      "\u001b[0;31mNameError\u001b[0m: name 'TimeoutException' is not defined"
     ]
    }
   ],
   "source": [
    "headers = {\"User-Agent\": ua.random}\n",
    "def get_driver():\n",
    "    \"\"\"This function is used to set up a Selenium WebDriver with headless Chrome \n",
    "    in order to go through the data within Yelp.\"\"\"\n",
    "    options = Options()\n",
    "    options.add_argument(\"--headless\")  \n",
    "    options.add_argument(\"--disable-gpu\")\n",
    "    options.add_argument(\"--no-sandbox\")       \n",
    "    options.add_argument(\"--window-size=1920,1080\")\n",
    "    time.sleep(5)\n",
    "    driver = webdriver.Chrome(service=Service(ChromeDriverManager().install()), options=options)\n",
    "    return driver\n",
    "driver = get_driver()\n",
    "\n",
    "def community_section_len(driver):\n",
    "    try:\n",
    "        ask_community_section = WebDriverWait(driver, 10).until(\n",
    "            EC.presence_of_element_located((By.XPATH, \"//section[contains(@aria-label, 'Ask the Community')]\"))\n",
    "        )\n",
    "        community_section = []\n",
    "        for i in ask_community_section:\n",
    "            try:\n",
    "                community_dates = ask_community_section.find_elements(By.XPATH, \".//span[contains(@class, 'y-css-1d8mpv1')]\")\n",
    "                if community_dates:\n",
    "                    community_section.append(community_dates)\n",
    "                else: \n",
    "                    continue\n",
    "            except Exception as e:\n",
    "                print(f\"Error extracting rating: {e}\") \n",
    "        length = len(community_section)\n",
    "        return length\n",
    "    \n",
    "    except TimeoutException:\n",
    "        print(\"Ask the Community section not found.\")\n",
    "        return 0\n",
    "\n",
    "community_section_len(driver)"
   ]
  }
 ],
 "metadata": {
  "kernelspec": {
   "display_name": "base",
   "language": "python",
   "name": "python3"
  },
  "language_info": {
   "codemirror_mode": {
    "name": "ipython",
    "version": 3
   },
   "file_extension": ".py",
   "mimetype": "text/x-python",
   "name": "python",
   "nbconvert_exporter": "python",
   "pygments_lexer": "ipython3",
   "version": "3.12.4"
  }
 },
 "nbformat": 4,
 "nbformat_minor": 2
}
